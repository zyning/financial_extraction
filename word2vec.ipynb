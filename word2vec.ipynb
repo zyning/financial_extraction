{
 "cells": [
  {
   "cell_type": "markdown",
   "metadata": {},
   "source": [
    "# Retrain word2vec using financial docs"
   ]
  },
  {
   "cell_type": "markdown",
   "metadata": {},
   "source": [
    "Serialize Data into json files"
   ]
  },
  {
   "cell_type": "code",
   "execution_count": 1,
   "metadata": {},
   "outputs": [],
   "source": [
    "import xlrd\n",
    "import json\n",
    "output = {}\n",
    "excelSheet = xlrd.open_workbook('data_2.xlsx')\n",
    "sheet1 = excelSheet.sheet_by_name('SA2000_with_return (1)')\n",
    "for i in range(1, sheet1.nrows):\n",
    "    trimmedData = {}\n",
    "    trimmedData['stockID'] = sheet1.row(i)[0].value\n",
    "    trimmedData['article'] = sheet1.row(i)[4].value\n",
    "    output[i] = trimmedData\n",
    "serializedOutput = json.dumps(output)\n",
    "with open('./financialArticle.json', 'w') as outputFile:\n",
    "    outputFile.write(serializedOutput)\n",
    "outputFile.close()"
   ]
  },
  {
   "cell_type": "markdown",
   "metadata": {},
   "source": [
    "Load back the financial data from json"
   ]
  },
  {
   "cell_type": "code",
   "execution_count": 2,
   "metadata": {},
   "outputs": [],
   "source": [
    "with open('./financialArticle.json', 'r') as inputFile:\n",
    "    financialData = json.load(inputFile)\n",
    "inputFile.close()"
   ]
  },
  {
   "cell_type": "markdown",
   "metadata": {},
   "source": [
    "Load the SQUAD data from json"
   ]
  },
  {
   "cell_type": "code",
   "execution_count": 3,
   "metadata": {},
   "outputs": [],
   "source": [
    "with open('./train-v2.0.json', 'r') as inputFile:\n",
    "    SQUADData = json.load(inputFile)\n",
    "inputFile.close()"
   ]
  },
  {
   "cell_type": "markdown",
   "metadata": {},
   "source": [
    "Retrain the word2vec model for future use"
   ]
  },
  {
   "cell_type": "code",
   "execution_count": 19,
   "metadata": {},
   "outputs": [],
   "source": [
    "from nltk.tokenize import TreebankWordTokenizer\n",
    "sentences = []\n",
    "for index in financialData:\n",
    "    try:\n",
    "        tokenizedSentence = TreebankWordTokenizer().tokenize(financialData[index]['article'])\n",
    "        sentences.append(tokenizedSentence)\n",
    "    except:\n",
    "        pass"
   ]
  },
  {
   "cell_type": "code",
   "execution_count": 29,
   "metadata": {},
   "outputs": [
    {
     "data": {
      "text/plain": [
       "'# fit a 2d PCA model to the vectors\\nX = model_1[model_1.wv.vocab]\\npca = PCA(n_components=2)\\nresult = pca.fit_transform(X)\\n# create a scatter plot of the projection\\npyplot.scatter(result[:, 0], result[:, 1])\\nwords = list(model_1.wv.vocab)\\nfor i, word in enumerate(words):\\n    pyplot.annotate(word, xy=(result[i, 0], result[i, 1]))\\npyplot.show()'"
      ]
     },
     "execution_count": 29,
     "metadata": {},
     "output_type": "execute_result"
    }
   ],
   "source": [
    "from gensim.models import KeyedVectors\n",
    "from gensim.models import Word2Vec\n",
    "from sklearn.decomposition import PCA\n",
    "from matplotlib import pyplot\n",
    "\n",
    "# train model\n",
    "model_1 = Word2Vec(sentences, size=300, min_count=1)"
   ]
  },
  {
   "cell_type": "code",
   "execution_count": 50,
   "metadata": {},
   "outputs": [
    {
     "name": "stderr",
     "output_type": "stream",
     "text": [
      "/anaconda3/lib/python3.6/site-packages/ipykernel_launcher.py:6: DeprecationWarning: Call to deprecated `__getitem__` (Method will be removed in 4.0.0, use self.wv.__getitem__() instead).\n",
      "  \n"
     ]
    },
    {
     "data": {
      "image/png": "[encoded data removed]",
      "text/plain": [
       "<Figure size 432x288 with 1 Axes>"
      ]
     },
     "metadata": {
      "needs_background": "light"
     },
     "output_type": "display_data"
    }
   ],
   "source": [
    "%matplotlib inline\n",
    "from sklearn.decomposition import PCA\n",
    "from matplotlib import pyplot\n",
    "# fit a 2d PCA model to the vectors\n",
    "testVectors = ['finance', 'margin', 'revenue', 'profit', 'expectation', 'EPS', 'share', 'bank', 'credit', 'cash', 'flow', 'debt']\n",
    "X = model_1[model_1.wv.vocab]\n",
    "pca = PCA(n_components=2)\n",
    "result = pca.fit_transform(X)\n",
    "# create a scatter plot of the projection\n",
    "pyplot.scatter(result[:, 0], result[:, 1])\n",
    "for i, word in enumerate(testVectors):\n",
    "    pyplot.annotate(word, xy=(result[i, 0], result[i, 1]))\n",
    "pyplot.show()"
   ]
  },
  {
   "cell_type": "code",
   "execution_count": 62,
   "metadata": {},
   "outputs": [
    {
     "data": {
      "text/plain": [
       "[('2.76', 0.9060478210449219),\n",
       " ('2.79', 0.9053827524185181),\n",
       " ('3.08', 0.8998939990997314),\n",
       " ('2.47', 0.8992294073104858),\n",
       " ('3.16', 0.8988616466522217)]"
      ]
     },
     "execution_count": 62,
     "metadata": {},
     "output_type": "execute_result"
    }
   ],
   "source": [
    "model_1.wv.most_similar(positive = ['2.81'], topn = 5)"
   ]
  },
  {
   "cell_type": "code",
   "execution_count": 61,
   "metadata": {},
   "outputs": [
    {
     "name": "stdout",
     "output_type": "stream",
     "text": [
      "Is this a number related to share? 0.3109450561866467\n",
      "Is this a number related to margin? 0.0795788219934574\n",
      "Is this a number related to money? 0.5209500981824865\n",
      "Is this a number related to percentage? 0.16398881978107024\n",
      "Is this a number related to profit? 0.12132966456895183\n",
      "Is this a number related to expectation? 0.08026975489507149\n"
     ]
    }
   ],
   "source": [
    "#2.8 is a price per share number: $2.8 per share\n",
    "print('Is this a number related to share?', model_1.wv.similarity('2.81', 'share'))\n",
    "print('Is this a number related to margin?', model_1.wv.similarity('2.81', 'margin'))\n",
    "print('Is this a number related to money?', model_1.wv.similarity('2.81', '$'))\n",
    "print('Is this a number related to percentage?', model_1.wv.similarity('2.81', 'percent'))\n",
    "print('Is this a number related to profit?', model_1.wv.similarity('2.81', 'profit'))\n",
    "print('Is this a number related to expectation?', model_1.wv.similarity('2.81', 'expectation'))"
   ]
  },
  {
   "cell_type": "code",
   "execution_count": 63,
   "metadata": {},
   "outputs": [
    {
     "name": "stdout",
     "output_type": "stream",
     "text": [
      "Is this a number related to share? 0.31162596796905273\n",
      "Is this a number related to margin? 0.0552354234111144\n",
      "Is this a number related to money? 0.5279378366169629\n",
      "Is this a number related to percentage? 0.17225395236075594\n",
      "Is this a number related to profit? 0.13530233083109938\n",
      "Is this a number related to expectation? 0.0578863041705581\n"
     ]
    }
   ],
   "source": [
    "#2.76 is a price per share number: $2.8 per share\n",
    "print('Is this a number related to share?', model_1.wv.similarity('2.76', 'share'))\n",
    "print('Is this a number related to margin?', model_1.wv.similarity('2.76', 'margin'))\n",
    "print('Is this a number related to money?', model_1.wv.similarity('2.76', '$'))\n",
    "print('Is this a number related to percentage?', model_1.wv.similarity('2.76', 'percent'))\n",
    "print('Is this a number related to profit?', model_1.wv.similarity('2.76', 'profit'))\n",
    "print('Is this a number related to expectation?', model_1.wv.similarity('2.76', 'expectation'))"
   ]
  },
  {
   "cell_type": "code",
   "execution_count": 65,
   "metadata": {},
   "outputs": [
    {
     "data": {
      "text/plain": [
       "\"Altria?s EPS rose again by close to 10%, year on year.          How did low gasoline prices impact the company's sales in recent quarters?          Looking forward will low gasoline prices still have a positive impact on Altria?s sales?          The recent earnings report of Altria (NYSE:MO) showed another strong quarter with a gain of 3.2% in revenue, year over year, and a diluted earnings per share of $0.78 -- it was higher by two cents than the consensus market estimate. The company acknowledged in the past that higher revenue was due, in part, to low gasoline prices, which may have contributed to higher household spending on other consumer goods including cigarettes. But has low gasoline prices actually boosted the company's volume sold in the previous quarters? If so, will it still have a positive impact on its shipments? The company's rise in revenue in recent quarters was due to both rising prices and higher volume of cigarettes sold. The chart below shows the year on year percent change in shipments and the ratio of revenue-to-shipments - an indicator for the shifts in prices. (click to enlarge) Source: Altria and Author's calculations As you can see, in the last quarter, however, most of the gain in revenue was attributed to higher prices rather than volume sold. This wasn't the case, however, in the first and second quarter when both prices and shipments grew at a much faster pace than in Q3 2015. Do higher shipments relate to the fall in gasoline prices? Let's consider the bigger picture and see the changes (year on year) of real consumer spending with respect to changes in gasoline prices. (click to enlarge) Source: FRED As you can see, real consumption in the U.S. mostly rose during the first half of 2014 before gasoline prices fell. Since then consumer spending has picked up albeit at a slow pace; all awhile gasoline prices crashed. It's worth noticing that the linear correlation between these two data sets (percent changes) aren't too strong at -0.2, which indicate there is a weak and negative relation between consumer spending and gasoline prices. So this could explain why many analysts are on the fence that falling gasoline prices have had a robust impact on consumer spending. This brings us to the last chart, the percent change in cigarettes shipments and gasoline prices (year on year) over the past few quarters. (click to enlarge) Source: Altria and EIA As you can see, even if there was a positive impact from low gasoline prices on cigarettes sales for Altria, the impact has dissipated in the third quarter -- it was mostly in the first and second quarters. This could suggest that even if there was a boost to sales due to low oil prices, this may not be the case looking forward in the coming quarters. The rise in volume sold in the first half of the year could also be related to other macroeconomic changes such as the fall in unemployment, which hasn't changed much in the past few months. Lower unemployment suggests more people employed and able to spend more on cigarettes. In any case, the company expects that the positive impact from low gasoline prices is likely to diminish in the fourth quarter. Nonetheless, Altria still estimates its annual EPS guidance will range between $2.76 and $2.81 per share with an average growth of 8.5%, year on year. So perhaps the boost in sales Altria received from low gasoline prices won't continue in the coming quarters, but it may still show reasonable growth on account of higher prices.  \""
      ]
     },
     "execution_count": 65,
     "metadata": {},
     "output_type": "execute_result"
    }
   ],
   "source": [
    "financialData['1']['article']"
   ]
  },
  {
   "cell_type": "code",
   "execution_count": 67,
   "metadata": {},
   "outputs": [
    {
     "name": "stdout",
     "output_type": "stream",
     "text": [
      "Is this a number related to share? 0.2156921837805344\n",
      "Is this a number related to margin? 0.19560952155786035\n",
      "Is this a number related to money? 0.3755048865821232\n",
      "Is this a number related to percentage? 0.23972346191391414\n",
      "Is this a number related to profit? 0.2512006527141525\n",
      "Is this a number related to expectation? 0.36492143665877225\n"
     ]
    }
   ],
   "source": [
    "#3.2 is a number of gain percentage\n",
    "print('Is this a number related to share?', model_1.wv.similarity('3.2', 'share'))\n",
    "print('Is this a number related to margin?', model_1.wv.similarity('3.2', 'margin'))\n",
    "print('Is this a number related to money?', model_1.wv.similarity('3.2', '$'))\n",
    "print('Is this a number related to percentage?', model_1.wv.similarity('3.2', 'percent'))\n",
    "print('Is this a number related to profit?', model_1.wv.similarity('3.2', 'profit'))\n",
    "print('Is this a number related to revenue?', model_1.wv.similarity('3.2', 'revenue'))"
   ]
  },
  {
   "cell_type": "code",
   "execution_count": null,
   "metadata": {},
   "outputs": [],
   "source": []
  }
 ],
 "metadata": {
  "kernelspec": {
   "display_name": "Python 3",
   "language": "python",
   "name": "python3"
  },
  "language_info": {
   "codemirror_mode": {
    "name": "ipython",
    "version": 3
   },
   "file_extension": ".py",
   "mimetype": "text/x-python",
   "name": "python",
   "nbconvert_exporter": "python",
   "pygments_lexer": "ipython3",
   "version": "3.6.6"
  }
 },
 "nbformat": 4,
 "nbformat_minor": 2
}
